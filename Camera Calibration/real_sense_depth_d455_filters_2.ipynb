{
 "cells": [
  {
   "cell_type": "markdown",
   "source": [
    "# Packages"
   ],
   "metadata": {
    "collapsed": false
   },
   "id": "cc3d1b16f829f573"
  },
  {
   "cell_type": "code",
   "outputs": [],
   "source": [
    "import cv2                                # State-of-the-art computer vision algorithms library\n",
    "import numpy as np                        # fundamental package for scientific computing\n",
    "import pyrealsense2 as rs                 # Intel RealSense cross-platform open-source API"
   ],
   "metadata": {
    "collapsed": false,
    "ExecuteTime": {
     "end_time": "2024-04-21T20:16:41.351981200Z",
     "start_time": "2024-04-21T20:16:41.102794400Z"
    }
   },
   "id": "de7576f5e1ad2b9c",
   "execution_count": 1
  },
  {
   "cell_type": "markdown",
   "source": [
    "# Setup"
   ],
   "metadata": {
    "collapsed": false
   },
   "id": "f837df086fcad08b"
  },
  {
   "cell_type": "code",
   "outputs": [],
   "source": [
    "# Initialize to retrieve the camera flow\n",
    "pipe = rs.pipeline()\n",
    "cfg = rs.config()\n",
    "\n",
    "# Define the format of both stream\n",
    "cfg.enable_stream(rs.stream.color, 640, 480, rs.format.bgr8, 30)\n",
    "cfg.enable_stream(rs.stream.depth, 640, 480, rs.format.z16, 30)\n",
    "\n",
    "# Align both cameras\n",
    "align = rs.align(rs.stream.color)"
   ],
   "metadata": {
    "collapsed": false,
    "ExecuteTime": {
     "end_time": "2024-04-21T20:16:42.042215700Z",
     "start_time": "2024-04-21T20:16:41.989753900Z"
    }
   },
   "id": "58ff45b00d5989de",
   "execution_count": 2
  },
  {
   "cell_type": "markdown",
   "source": [
    "## COLORIZED DEPTH"
   ],
   "metadata": {
    "collapsed": false
   },
   "id": "e9a767f131322db8"
  },
  {
   "cell_type": "code",
   "outputs": [],
   "source": [
    "# Start the capture\n",
    "pipe.start(cfg)\n",
    "\n",
    "while True:\n",
    "  # Wait for a coherent pair of frames \"depth and color\" and align them\n",
    "  frame = pipe.wait_for_frames()\n",
    "  aligned_frame = align.process(frame)\n",
    "  \n",
    "  # Retrieve the depth and color flow\n",
    "  depth_frame = frame.get_depth_frame()\n",
    "  color_frame = frame.get_color_frame()\n",
    "  \n",
    "  # Retrieve the images from both flow (colorized depth)\n",
    "  colorizer = rs.colorizer()\n",
    "  color_image = np.asanyarray(color_frame.get_data())\n",
    "  colorized_depth_frame = np.asanyarray(colorizer.colorize(depth_frame).get_data())\n",
    "  \n",
    "  cv2.imshow(\"Depth\", colorized_depth_frame)\n",
    "  cv2.imshow(\"Color\", color_image)\n",
    "  \n",
    "  if cv2.waitKey(1) == ord('q'):\n",
    "    break\n",
    "      \n",
    "pipe.stop()\n",
    "cv2.destroyAllWindows()"
   ],
   "metadata": {
    "collapsed": false,
    "ExecuteTime": {
     "end_time": "2024-04-21T20:24:37.843583Z",
     "start_time": "2024-04-21T20:19:57.696197500Z"
    }
   },
   "id": "f85c4fb78561c53b",
   "execution_count": 3
  },
  {
   "cell_type": "markdown",
   "source": [
    "## DECIMATION FILTER"
   ],
   "metadata": {
    "collapsed": false
   },
   "id": "a11c2da7a12ebd33"
  },
  {
   "cell_type": "code",
   "outputs": [],
   "source": [
    "# Start the capture\n",
    "pipe.start(cfg)\n",
    "\n",
    "while True:\n",
    "  # Wait for a coherent pair of frames \"depth and color\" and align them\n",
    "  frame = pipe.wait_for_frames()\n",
    "  aligned_frame = align.process(frame)\n",
    "  \n",
    "  # Retrieve the depth and color flow\n",
    "  depth_frame = frame.get_depth_frame()\n",
    "  color_frame = frame.get_color_frame()\n",
    "  \n",
    "  # Apply filters to reduce the treatment charge by decreasing the resolution\n",
    "  decimation = rs.decimation_filter()\n",
    "  decimation.set_option(rs.option.filter_magnitude, 1)\n",
    "  \n",
    "  # Retrieve the images from both flow (colorized depth)\n",
    "  colorizer = rs.colorizer()\n",
    "  color_image = np.asanyarray(color_frame.get_data())\n",
    "  decimated_depth = decimation.process(depth_frame)\n",
    "  colorized_depth_frame = np.asanyarray(colorizer.colorize(decimated_depth).get_data())\n",
    "  \n",
    "  cv2.imshow(\"Depth\", colorized_depth_frame)\n",
    "  cv2.imshow(\"Color\", color_image)\n",
    "  \n",
    "  if cv2.waitKey(1) == ord('q'):\n",
    "    break\n",
    "      \n",
    "pipe.stop()\n",
    "cv2.destroyAllWindows()"
   ],
   "metadata": {
    "collapsed": false,
    "ExecuteTime": {
     "end_time": "2024-04-21T20:32:49.595196500Z",
     "start_time": "2024-04-21T20:32:07.246662Z"
    }
   },
   "id": "bbd0308084a370a9",
   "execution_count": 7
  },
  {
   "cell_type": "markdown",
   "source": [
    "## HOLE FILTER"
   ],
   "metadata": {
    "collapsed": false
   },
   "id": "38a3b39d8dc612cc"
  },
  {
   "cell_type": "code",
   "outputs": [],
   "source": [
    "# Start the capture\n",
    "pipe.start(cfg)\n",
    "\n",
    "while True:\n",
    "  # Wait for a coherent pair of frames \"depth and color\" and align them\n",
    "  frame = pipe.wait_for_frames()\n",
    "  aligned_frame = align.process(frame)\n",
    "  \n",
    "  # Retrieve the depth and color flow\n",
    "  depth_frame = frame.get_depth_frame()\n",
    "  color_frame = frame.get_color_frame()\n",
    "  \n",
    "  # Apply filters to reduce the treatment charge by decreasing the resolution\n",
    "  decimation = rs.decimation_filter()\n",
    "  decimation.set_option(rs.option.filter_magnitude, 1)\n",
    "  \n",
    "  # Apply filters to fill the holes\n",
    "  hole_filling = rs.hole_filling_filter()\n",
    "  \n",
    "  # Retrieve the images from both flow (colorized depth)\n",
    "  colorizer = rs.colorizer()\n",
    "  color_image = np.asanyarray(color_frame.get_data())\n",
    "  decimated_depth = decimation.process(depth_frame)\n",
    "  filled_depth = hole_filling.process(decimated_depth)\n",
    "  colorized_depth_frame = np.asanyarray(colorizer.colorize(filled_depth).get_data())\n",
    "  \n",
    "  cv2.imshow(\"Depth\", colorized_depth_frame)\n",
    "  cv2.imshow(\"Color\", color_image)\n",
    "  \n",
    "  if cv2.waitKey(1) == ord('q'):\n",
    "    break\n",
    "      \n",
    "pipe.stop()\n",
    "cv2.destroyAllWindows()"
   ],
   "metadata": {
    "collapsed": false,
    "ExecuteTime": {
     "end_time": "2024-04-21T20:37:09.095639300Z",
     "start_time": "2024-04-21T20:35:43.507178300Z"
    }
   },
   "id": "15f94a84e150c04a",
   "execution_count": 8
  },
  {
   "cell_type": "markdown",
   "source": [
    "## SMOOTH FILTER"
   ],
   "metadata": {
    "collapsed": false
   },
   "id": "8cfe2c1e74859808"
  },
  {
   "cell_type": "code",
   "outputs": [],
   "source": [
    "# Start the capture\n",
    "pipe.start(cfg)\n",
    "\n",
    "while True:\n",
    "  # Wait for a coherent pair of frames \"depth and color\" and align them\n",
    "  frame = pipe.wait_for_frames()\n",
    "  aligned_frame = align.process(frame)\n",
    "  \n",
    "  # Retrieve the depth and color flow\n",
    "  depth_frame = frame.get_depth_frame()\n",
    "  color_frame = frame.get_color_frame()\n",
    "  \n",
    "  # Apply filters to reduce the treatment charge by decreasing the resolution\n",
    "  decimation = rs.decimation_filter()\n",
    "  decimation.set_option(rs.option.filter_magnitude, 1)\n",
    "  \n",
    "  # Apply smothering filter\n",
    "  spatial = rs.spatial_filter()\n",
    "  spatial.set_option(rs.option.filter_magnitude, 5)\n",
    "  spatial.set_option(rs.option.filter_smooth_alpha, 1)\n",
    "  spatial.set_option(rs.option.filter_smooth_delta, 50)\n",
    "  \n",
    "  # Apply filters to fill the holes\n",
    "  hole_filling = rs.hole_filling_filter()\n",
    "  \n",
    "  # Retrieve the images from both flow (colorized depth)\n",
    "  colorizer = rs.colorizer()\n",
    "  color_image = np.asanyarray(color_frame.get_data())\n",
    "  decimated_depth = decimation.process(depth_frame)\n",
    "  smoothed_depth = spatial.process(decimated_depth)\n",
    "  filled_depth = hole_filling.process(smoothed_depth)\n",
    "  colorized_depth_frame = np.asanyarray(colorizer.colorize(filled_depth).get_data())\n",
    "  \n",
    "  cv2.imshow(\"Depth\", colorized_depth_frame)\n",
    "  cv2.imshow(\"Color\", color_image)\n",
    "  \n",
    "  if cv2.waitKey(1) == ord('q'):\n",
    "    break\n",
    "      \n",
    "pipe.stop()\n",
    "cv2.destroyAllWindows()"
   ],
   "metadata": {
    "collapsed": false,
    "ExecuteTime": {
     "end_time": "2024-04-21T20:45:55.658811100Z",
     "start_time": "2024-04-21T20:43:46.271050300Z"
    }
   },
   "id": "5dd10243e89c742f",
   "execution_count": 9
  },
  {
   "cell_type": "code",
   "outputs": [],
   "source": [],
   "metadata": {
    "collapsed": false
   },
   "id": "ee400280834f7f38"
  }
 ],
 "metadata": {
  "kernelspec": {
   "display_name": "Python 3",
   "language": "python",
   "name": "python3"
  },
  "language_info": {
   "codemirror_mode": {
    "name": "ipython",
    "version": 2
   },
   "file_extension": ".py",
   "mimetype": "text/x-python",
   "name": "python",
   "nbconvert_exporter": "python",
   "pygments_lexer": "ipython2",
   "version": "2.7.6"
  }
 },
 "nbformat": 4,
 "nbformat_minor": 5
}
