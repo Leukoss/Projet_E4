{
 "cells": [
  {
   "cell_type": "markdown",
   "source": [
    "# Packages"
   ],
   "metadata": {
    "collapsed": false
   },
   "id": "53eb974a94faaec6"
  },
  {
   "cell_type": "code",
   "execution_count": 2,
   "id": "initial_id",
   "metadata": {
    "collapsed": true,
    "ExecuteTime": {
     "end_time": "2024-04-21T20:09:49.930105900Z",
     "start_time": "2024-04-21T20:09:49.163699Z"
    }
   },
   "outputs": [],
   "source": [
    "import cv2                                # State-of-the-art computer vision algorithms library\n",
    "import numpy as np                        # fundamental package for scientific computing\n",
    "import pyrealsense2 as rs                 # Intel RealSense cross-platform open-source API"
   ]
  },
  {
   "cell_type": "markdown",
   "source": [
    "# Setup"
   ],
   "metadata": {
    "collapsed": false
   },
   "id": "49d55b5527a04660"
  },
  {
   "cell_type": "code",
   "outputs": [],
   "source": [
    "# Initialize to retrieve the camera flow\n",
    "pipe = rs.pipeline()\n",
    "cfg = rs.config()\n",
    "\n",
    "# Define the format of both stream\n",
    "cfg.enable_stream(rs.stream.color, 640, 480, rs.format.bgr8, 30)\n",
    "cfg.enable_stream(rs.stream.depth, 640, 480, rs.format.z16, 30)\n",
    "\n",
    "# Align both cameras\n",
    "align = rs.align(rs.stream.color)"
   ],
   "metadata": {
    "collapsed": false,
    "ExecuteTime": {
     "end_time": "2024-04-21T20:09:49.976890500Z",
     "start_time": "2024-04-21T20:09:49.932102100Z"
    }
   },
   "id": "902e6c05cfe83bf4",
   "execution_count": 3
  },
  {
   "cell_type": "markdown",
   "source": [
    "## First Stream without any filters"
   ],
   "metadata": {
    "collapsed": false
   },
   "id": "fd2b2cedb829ddd0"
  },
  {
   "cell_type": "code",
   "outputs": [],
   "source": [
    "# Start the capture\n",
    "pipe.start(cfg)\n",
    "\n",
    "while True:\n",
    "  # Wait for a coherent pair of frames \"depth and color\" and align them\n",
    "  frame = pipe.wait_for_frames()\n",
    "  aligned_frame = align.process(frame)\n",
    "  \n",
    "  # Retrieve the depth and color flow\n",
    "  depth_frame = frame.get_depth_frame()\n",
    "  color_frame = frame.get_color_frame()\n",
    "  \n",
    "  # Retrieve the images from both flow\n",
    "  depth_image = np.asanyarray(depth_frame.get_data())\n",
    "  color_image = np.asanyarray(color_frame.get_data())\n",
    "  \n",
    "  cv2.imshow(\"Depth\", depth_image)\n",
    "  cv2.imshow(\"Color\", color_image)\n",
    "  \n",
    "  if cv2.waitKey(1) == ord('q'):\n",
    "    break\n",
    "      \n",
    "pipe.stop()\n",
    "cv2.destroyAllWindows()"
   ],
   "metadata": {
    "collapsed": false,
    "ExecuteTime": {
     "end_time": "2024-04-21T20:09:55.129793300Z",
     "start_time": "2024-04-21T20:09:50.738702Z"
    }
   },
   "id": "8e9fe9fbf8c50fc0",
   "execution_count": 4
  },
  {
   "cell_type": "markdown",
   "source": [
    "## First Retrieve (Central Depth value)"
   ],
   "metadata": {
    "collapsed": false
   },
   "id": "180f06b2321bd0aa"
  },
  {
   "cell_type": "code",
   "outputs": [
    {
     "name": "stdout",
     "output_type": "stream",
     "text": [
      "x : 320, y : 240, z : 6435\n",
      "x : 320, y : 240, z : 6692\n",
      "x : 320, y : 240, z : 6692\n",
      "x : 320, y : 240, z : 6365\n",
      "x : 320, y : 240, z : 6297\n",
      "x : 320, y : 240, z : 6435\n",
      "x : 320, y : 240, z : 6263\n",
      "x : 320, y : 240, z : 6230\n",
      "x : 320, y : 240, z : 6164\n",
      "x : 320, y : 240, z : 6470\n",
      "x : 320, y : 240, z : 6470\n",
      "x : 320, y : 240, z : 6365\n",
      "x : 320, y : 240, z : 6400\n",
      "x : 320, y : 240, z : 6263\n",
      "x : 320, y : 240, z : 6297\n",
      "x : 320, y : 240, z : 6435\n",
      "x : 320, y : 240, z : 6331\n",
      "x : 320, y : 240, z : 6197\n",
      "x : 320, y : 240, z : 6506\n",
      "x : 320, y : 240, z : 6400\n",
      "x : 320, y : 240, z : 6331\n",
      "x : 320, y : 240, z : 6400\n",
      "x : 320, y : 240, z : 6263\n",
      "x : 320, y : 240, z : 6435\n",
      "x : 320, y : 240, z : 6197\n",
      "x : 320, y : 240, z : 6263\n",
      "x : 320, y : 240, z : 6263\n",
      "x : 320, y : 240, z : 6164\n",
      "x : 320, y : 240, z : 6100\n",
      "x : 320, y : 240, z : 6580\n",
      "x : 320, y : 240, z : 6580\n",
      "x : 320, y : 240, z : 6037\n",
      "x : 320, y : 240, z : 6297\n",
      "x : 320, y : 240, z : 6470\n",
      "x : 320, y : 240, z : 6400\n",
      "x : 320, y : 240, z : 6617\n",
      "x : 320, y : 240, z : 6263\n",
      "x : 320, y : 240, z : 6506\n",
      "x : 320, y : 240, z : 6435\n",
      "x : 320, y : 240, z : 6331\n",
      "x : 320, y : 240, z : 6770\n",
      "x : 320, y : 240, z : 6230\n",
      "x : 320, y : 240, z : 6100\n",
      "x : 320, y : 240, z : 6400\n",
      "x : 320, y : 240, z : 5885\n",
      "x : 320, y : 240, z : 6068\n",
      "x : 320, y : 240, z : 6400\n",
      "x : 320, y : 240, z : 6435\n",
      "x : 320, y : 240, z : 6331\n",
      "x : 320, y : 240, z : 6435\n"
     ]
    }
   ],
   "source": [
    "# Start the capture\n",
    "pipe.start(cfg)\n",
    "\n",
    "x = 640 // 2\n",
    "y = 480 // 2\n",
    "\n",
    "while True:\n",
    "  # Wait for a coherent pair of frames \"depth and color\" and align \n",
    "  # them\n",
    "  frame = pipe.wait_for_frames()\n",
    "  aligned_frame = align.process(frame)\n",
    "  \n",
    "  # Retrieve the depth and color flow\n",
    "  depth_frame = frame.get_depth_frame()\n",
    "  color_frame = frame.get_color_frame()\n",
    "  \n",
    "  # Retrieve the images from both flow\n",
    "  depth_image = np.asanyarray(depth_frame.get_data())\n",
    "  color_image = np.asanyarray(color_frame.get_data())\n",
    "  \n",
    "  # Print the tuple (x,y,z)\n",
    "  print(f\"x : {x}, y : {y}, z : {depth_image[y, x]}\")\n",
    "  \n",
    "  cv2.imshow(\"Depth\", depth_image)\n",
    "  cv2.imshow(\"Color\", color_image)\n",
    "  \n",
    "  if cv2.waitKey(1) == ord('q'):\n",
    "    break\n",
    "      \n",
    "pipe.stop()\n",
    "cv2.destroyAllWindows()"
   ],
   "metadata": {
    "collapsed": false,
    "ExecuteTime": {
     "end_time": "2024-04-21T20:10:02.625665800Z",
     "start_time": "2024-04-21T20:09:58.268496500Z"
    }
   },
   "id": "2e88e9c27bdfe383",
   "execution_count": 5
  },
  {
   "cell_type": "code",
   "outputs": [],
   "source": [],
   "metadata": {
    "collapsed": false
   },
   "id": "9243968b6cd3e207"
  }
 ],
 "metadata": {
  "kernelspec": {
   "display_name": "Python 3",
   "language": "python",
   "name": "python3"
  },
  "language_info": {
   "codemirror_mode": {
    "name": "ipython",
    "version": 2
   },
   "file_extension": ".py",
   "mimetype": "text/x-python",
   "name": "python",
   "nbconvert_exporter": "python",
   "pygments_lexer": "ipython2",
   "version": "2.7.6"
  }
 },
 "nbformat": 4,
 "nbformat_minor": 5
}
